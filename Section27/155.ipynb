{
 "cells": [
  {
   "cell_type": "markdown",
   "id": "376f0299",
   "metadata": {},
   "source": [
    "Pipeline in Polynomial"
   ]
  },
  {
   "cell_type": "code",
   "execution_count": 10,
   "id": "bc0192f8",
   "metadata": {},
   "outputs": [],
   "source": [
    "from sklearn.pipeline import Pipeline\n",
    "import numpy as np\n",
    "from sklearn.preprocessing import PolynomialFeatures\n",
    "from sklearn.linear_model import LinearRegression\n",
    "import matplotlib.pyplot as plt"
   ]
  },
  {
   "cell_type": "code",
   "execution_count": null,
   "id": "acdf8d7c",
   "metadata": {},
   "outputs": [],
   "source": [
    "def poly_regression(degree, X_train, y_train, X_test, y_test):\n",
    "    X_new = np.linspace(-3, 3, 200).reshape(200, 1)\n",
    "    poly_features = PolynomialFeatures(degree=degree, include_bias=True)\n",
    "    lin_reg = LinearRegression()\n",
    "    poly_regression = Pipeline([\n",
    "        (\"poly_features\", poly_features),\n",
    "        (\"lin_reg\", lin_reg)\n",
    "    ])\n",
    "    poly_regression.fit(X_train, y_train)\n",
    "    y_pred_new = poly_regression.predict(X_new)\n",
    "\n",
    "    # Plotting prediction line\n",
    "\n",
    "    plt.plot(X_new, y_pred_new, 'r', label=\"Degree\" + str(degree), linewidth=2)\n",
    "    plt.plot(X_train, y_train, \"b.\", linewidth=3)\n",
    "    plt.plot(X_test, y_test, \"g.\", linewidth=3)\n",
    "    plt.xlabel(\"X\")\n",
    "    plt.ylabel(\"y\")\n",
    "    plt.axis([-4, 4, 0, 10])\n",
    "    plt.show()\n"
   ]
  }
 ],
 "metadata": {
  "kernelspec": {
   "display_name": "venv",
   "language": "python",
   "name": "python3"
  },
  "language_info": {
   "codemirror_mode": {
    "name": "ipython",
    "version": 3
   },
   "file_extension": ".py",
   "mimetype": "text/x-python",
   "name": "python",
   "nbconvert_exporter": "python",
   "pygments_lexer": "ipython3",
   "version": "3.13.0"
  }
 },
 "nbformat": 4,
 "nbformat_minor": 5
}
